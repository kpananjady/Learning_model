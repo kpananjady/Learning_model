{
 "cells": [
  {
   "cell_type": "code",
   "execution_count": 276,
   "metadata": {},
   "outputs": [],
   "source": [
    "import pandas as pd\n",
    "import numpy as np"
   ]
  },
  {
   "cell_type": "code",
   "execution_count": null,
   "metadata": {},
   "outputs": [],
   "source": []
  },
  {
   "cell_type": "markdown",
   "metadata": {},
   "source": [
    "# Getting enrollment data ready"
   ]
  },
  {
   "cell_type": "code",
   "execution_count": 277,
   "metadata": {},
   "outputs": [],
   "source": [
    "df =pd.read_csv('enrollmentSingleYear.csv', encoding='latin-1')"
   ]
  },
  {
   "cell_type": "code",
   "execution_count": 278,
   "metadata": {},
   "outputs": [
    {
     "data": {
      "text/plain": [
       "201"
      ]
     },
     "execution_count": 278,
     "metadata": {},
     "output_type": "execute_result"
    }
   ],
   "source": [
    "len(df)"
   ]
  },
  {
   "cell_type": "code",
   "execution_count": 279,
   "metadata": {},
   "outputs": [],
   "source": [
    "df['District Code'] = df['District Code'].str.extract(r'=\"(\\d*)\"')"
   ]
  },
  {
   "cell_type": "code",
   "execution_count": 280,
   "metadata": {},
   "outputs": [],
   "source": [
    "#http://edsight.ct.gov/relatedreports/BDCRE%20Data%20Suppression%20Rules.pdf "
   ]
  },
  {
   "cell_type": "code",
   "execution_count": 281,
   "metadata": {},
   "outputs": [],
   "source": [
    "df['White_estimate'] = df['White'].str.replace('*','5')"
   ]
  },
  {
   "cell_type": "code",
   "execution_count": 282,
   "metadata": {},
   "outputs": [],
   "source": [
    "df['White_estimate'] = df['White_estimate'].astype(int)"
   ]
  },
  {
   "cell_type": "code",
   "execution_count": 283,
   "metadata": {},
   "outputs": [
    {
     "data": {
      "text/html": [
       "<div>\n",
       "<style scoped>\n",
       "    .dataframe tbody tr th:only-of-type {\n",
       "        vertical-align: middle;\n",
       "    }\n",
       "\n",
       "    .dataframe tbody tr th {\n",
       "        vertical-align: top;\n",
       "    }\n",
       "\n",
       "    .dataframe thead th {\n",
       "        text-align: right;\n",
       "    }\n",
       "</style>\n",
       "<table border=\"1\" class=\"dataframe\">\n",
       "  <thead>\n",
       "    <tr style=\"text-align: right;\">\n",
       "      <th></th>\n",
       "      <th>District</th>\n",
       "      <th>District Code</th>\n",
       "      <th>American Indian or Alaska Native</th>\n",
       "      <th>Asian</th>\n",
       "      <th>Black or African American</th>\n",
       "      <th>Hispanic/Latino of any race</th>\n",
       "      <th>Native Hawaiian or Other Pacific Islander</th>\n",
       "      <th>Two or More Races</th>\n",
       "      <th>White</th>\n",
       "      <th>Total</th>\n",
       "      <th>White_estimate</th>\n",
       "    </tr>\n",
       "  </thead>\n",
       "  <tbody>\n",
       "    <tr>\n",
       "      <th>43</th>\n",
       "      <td>Department of Mental Health and Addiction Serv...</td>\n",
       "      <td>3370015</td>\n",
       "      <td>0</td>\n",
       "      <td>0</td>\n",
       "      <td>*</td>\n",
       "      <td>0</td>\n",
       "      <td>0</td>\n",
       "      <td>0</td>\n",
       "      <td>0</td>\n",
       "      <td>*</td>\n",
       "      <td>0</td>\n",
       "    </tr>\n",
       "    <tr>\n",
       "      <th>178</th>\n",
       "      <td>Union School District</td>\n",
       "      <td>1450011</td>\n",
       "      <td>0</td>\n",
       "      <td>0</td>\n",
       "      <td>0</td>\n",
       "      <td>*</td>\n",
       "      <td>0</td>\n",
       "      <td>0</td>\n",
       "      <td>*</td>\n",
       "      <td>*</td>\n",
       "      <td>5</td>\n",
       "    </tr>\n",
       "  </tbody>\n",
       "</table>\n",
       "</div>"
      ],
      "text/plain": [
       "                                              District District Code  \\\n",
       "43   Department of Mental Health and Addiction Serv...       3370015   \n",
       "178                              Union School District       1450011   \n",
       "\n",
       "    American Indian or Alaska Native Asian Black or African American  \\\n",
       "43                                 0     0                         *   \n",
       "178                                0     0                         0   \n",
       "\n",
       "    Hispanic/Latino of any race Native Hawaiian or Other Pacific Islander  \\\n",
       "43                            0                                         0   \n",
       "178                           *                                         0   \n",
       "\n",
       "    Two or More Races White Total  White_estimate  \n",
       "43                  0     0     *               0  \n",
       "178                 0     *     *               5  "
      ]
     },
     "execution_count": 283,
     "metadata": {},
     "output_type": "execute_result"
    }
   ],
   "source": [
    "df[df['Total']=='*']"
   ]
  },
  {
   "cell_type": "code",
   "execution_count": 284,
   "metadata": {},
   "outputs": [],
   "source": [
    "df_final = df[df['Total']!='*']"
   ]
  },
  {
   "cell_type": "code",
   "execution_count": 285,
   "metadata": {},
   "outputs": [
    {
     "name": "stderr",
     "output_type": "stream",
     "text": [
      "/Users/kasturipananjady/.pyenv/versions/3.7.1/lib/python3.7/site-packages/ipykernel_launcher.py:1: SettingWithCopyWarning: \n",
      "A value is trying to be set on a copy of a slice from a DataFrame.\n",
      "Try using .loc[row_indexer,col_indexer] = value instead\n",
      "\n",
      "See the caveats in the documentation: https://pandas.pydata.org/pandas-docs/stable/user_guide/indexing.html#returning-a-view-versus-a-copy\n",
      "  \"\"\"Entry point for launching an IPython kernel.\n"
     ]
    }
   ],
   "source": [
    "df_final['Total_estimate'] = df_final['Total'].astype(int)"
   ]
  },
  {
   "cell_type": "code",
   "execution_count": 286,
   "metadata": {},
   "outputs": [
    {
     "name": "stderr",
     "output_type": "stream",
     "text": [
      "/Users/kasturipananjady/.pyenv/versions/3.7.1/lib/python3.7/site-packages/ipykernel_launcher.py:1: SettingWithCopyWarning: \n",
      "A value is trying to be set on a copy of a slice from a DataFrame.\n",
      "Try using .loc[row_indexer,col_indexer] = value instead\n",
      "\n",
      "See the caveats in the documentation: https://pandas.pydata.org/pandas-docs/stable/user_guide/indexing.html#returning-a-view-versus-a-copy\n",
      "  \"\"\"Entry point for launching an IPython kernel.\n"
     ]
    }
   ],
   "source": [
    "df_final['%_White'] =100*df_final['White_estimate']/df_final['Total_estimate']"
   ]
  },
  {
   "cell_type": "code",
   "execution_count": 287,
   "metadata": {},
   "outputs": [],
   "source": [
    "df_enrollment_race = df_final[['District Code', 'District', '%_White','Total_estimate']]"
   ]
  },
  {
   "cell_type": "code",
   "execution_count": 288,
   "metadata": {},
   "outputs": [],
   "source": [
    "df_enrollment_race = df_enrollment_race[df_enrollment_race['District Code']!='']"
   ]
  },
  {
   "cell_type": "code",
   "execution_count": 289,
   "metadata": {},
   "outputs": [],
   "source": [
    "df_enrollment_race['District Code'] = df_enrollment_race['District Code'].astype(int)"
   ]
  },
  {
   "cell_type": "code",
   "execution_count": 290,
   "metadata": {},
   "outputs": [
    {
     "data": {
      "text/plain": [
       "198"
      ]
     },
     "execution_count": 290,
     "metadata": {},
     "output_type": "execute_result"
    }
   ],
   "source": [
    "len(df_enrollment_race)"
   ]
  },
  {
   "cell_type": "code",
   "execution_count": 291,
   "metadata": {},
   "outputs": [
    {
     "data": {
      "text/html": [
       "<div>\n",
       "<style scoped>\n",
       "    .dataframe tbody tr th:only-of-type {\n",
       "        vertical-align: middle;\n",
       "    }\n",
       "\n",
       "    .dataframe tbody tr th {\n",
       "        vertical-align: top;\n",
       "    }\n",
       "\n",
       "    .dataframe thead th {\n",
       "        text-align: right;\n",
       "    }\n",
       "</style>\n",
       "<table border=\"1\" class=\"dataframe\">\n",
       "  <thead>\n",
       "    <tr style=\"text-align: right;\">\n",
       "      <th></th>\n",
       "      <th>District Code</th>\n",
       "      <th>District</th>\n",
       "      <th>%_White</th>\n",
       "      <th>Total_estimate</th>\n",
       "    </tr>\n",
       "  </thead>\n",
       "  <tbody>\n",
       "    <tr>\n",
       "      <th>0</th>\n",
       "      <td>2850013</td>\n",
       "      <td>Achievement First Bridgeport Academy District</td>\n",
       "      <td>1.064774</td>\n",
       "      <td>1127</td>\n",
       "    </tr>\n",
       "    <tr>\n",
       "      <th>1</th>\n",
       "      <td>2880013</td>\n",
       "      <td>Achievement First Hartford Academy District</td>\n",
       "      <td>0.429553</td>\n",
       "      <td>1164</td>\n",
       "    </tr>\n",
       "    <tr>\n",
       "      <th>2</th>\n",
       "      <td>2790013</td>\n",
       "      <td>Amistad Academy District</td>\n",
       "      <td>0.970018</td>\n",
       "      <td>1134</td>\n",
       "    </tr>\n",
       "    <tr>\n",
       "      <th>3</th>\n",
       "      <td>10011</td>\n",
       "      <td>Andover School District</td>\n",
       "      <td>81.609195</td>\n",
       "      <td>174</td>\n",
       "    </tr>\n",
       "    <tr>\n",
       "      <th>4</th>\n",
       "      <td>20011</td>\n",
       "      <td>Ansonia School District</td>\n",
       "      <td>28.775693</td>\n",
       "      <td>2238</td>\n",
       "    </tr>\n",
       "    <tr>\n",
       "      <th>...</th>\n",
       "      <td>...</td>\n",
       "      <td>...</td>\n",
       "      <td>...</td>\n",
       "      <td>...</td>\n",
       "    </tr>\n",
       "    <tr>\n",
       "      <th>195</th>\n",
       "      <td>1650011</td>\n",
       "      <td>Windsor Locks School District</td>\n",
       "      <td>56.844850</td>\n",
       "      <td>1534</td>\n",
       "    </tr>\n",
       "    <tr>\n",
       "      <th>196</th>\n",
       "      <td>1640011</td>\n",
       "      <td>Windsor School District</td>\n",
       "      <td>24.060150</td>\n",
       "      <td>3325</td>\n",
       "    </tr>\n",
       "    <tr>\n",
       "      <th>197</th>\n",
       "      <td>1660011</td>\n",
       "      <td>Wolcott School District</td>\n",
       "      <td>85.740741</td>\n",
       "      <td>2160</td>\n",
       "    </tr>\n",
       "    <tr>\n",
       "      <th>198</th>\n",
       "      <td>1670011</td>\n",
       "      <td>Woodbridge School District</td>\n",
       "      <td>66.707466</td>\n",
       "      <td>817</td>\n",
       "    </tr>\n",
       "    <tr>\n",
       "      <th>199</th>\n",
       "      <td>1690011</td>\n",
       "      <td>Woodstock School District</td>\n",
       "      <td>89.473684</td>\n",
       "      <td>798</td>\n",
       "    </tr>\n",
       "  </tbody>\n",
       "</table>\n",
       "<p>198 rows × 4 columns</p>\n",
       "</div>"
      ],
      "text/plain": [
       "     District Code                                       District    %_White  \\\n",
       "0          2850013  Achievement First Bridgeport Academy District   1.064774   \n",
       "1          2880013    Achievement First Hartford Academy District   0.429553   \n",
       "2          2790013                       Amistad Academy District   0.970018   \n",
       "3            10011                        Andover School District  81.609195   \n",
       "4            20011                        Ansonia School District  28.775693   \n",
       "..             ...                                            ...        ...   \n",
       "195        1650011                  Windsor Locks School District  56.844850   \n",
       "196        1640011                        Windsor School District  24.060150   \n",
       "197        1660011                        Wolcott School District  85.740741   \n",
       "198        1670011                     Woodbridge School District  66.707466   \n",
       "199        1690011                      Woodstock School District  89.473684   \n",
       "\n",
       "     Total_estimate  \n",
       "0              1127  \n",
       "1              1164  \n",
       "2              1134  \n",
       "3               174  \n",
       "4              2238  \n",
       "..              ...  \n",
       "195            1534  \n",
       "196            3325  \n",
       "197            2160  \n",
       "198             817  \n",
       "199             798  \n",
       "\n",
       "[198 rows x 4 columns]"
      ]
     },
     "execution_count": 291,
     "metadata": {},
     "output_type": "execute_result"
    }
   ],
   "source": [
    "df_enrollment_race"
   ]
  },
  {
   "cell_type": "markdown",
   "metadata": {},
   "source": [
    "# Getting learning model data ready"
   ]
  },
  {
   "cell_type": "code",
   "execution_count": 292,
   "metadata": {},
   "outputs": [],
   "source": [
    "df = pd.read_csv('Learning_Model_by_School_District (1).csv')"
   ]
  },
  {
   "cell_type": "code",
   "execution_count": 293,
   "metadata": {},
   "outputs": [
    {
     "data": {
      "text/html": [
       "<div>\n",
       "<style scoped>\n",
       "    .dataframe tbody tr th:only-of-type {\n",
       "        vertical-align: middle;\n",
       "    }\n",
       "\n",
       "    .dataframe tbody tr th {\n",
       "        vertical-align: top;\n",
       "    }\n",
       "\n",
       "    .dataframe thead th {\n",
       "        text-align: right;\n",
       "    }\n",
       "</style>\n",
       "<table border=\"1\" class=\"dataframe\">\n",
       "  <thead>\n",
       "    <tr style=\"text-align: right;\">\n",
       "      <th></th>\n",
       "      <th>District code</th>\n",
       "      <th>District name</th>\n",
       "      <th>School start date</th>\n",
       "      <th>Grades: In person</th>\n",
       "      <th>Grades: Hybrid</th>\n",
       "      <th>Grades: Remote</th>\n",
       "      <th>Percentage of students who are fully remote</th>\n",
       "      <th>Total number of students in the district</th>\n",
       "      <th>Predominant learning model</th>\n",
       "      <th>Organization type</th>\n",
       "      <th>Alliance District</th>\n",
       "      <th>Reporting period</th>\n",
       "      <th>Update date</th>\n",
       "    </tr>\n",
       "  </thead>\n",
       "  <tbody>\n",
       "    <tr>\n",
       "      <th>0</th>\n",
       "      <td>130011</td>\n",
       "      <td>Bozrah School District</td>\n",
       "      <td>08/31/2020</td>\n",
       "      <td>PK, K, g1, g2, g3</td>\n",
       "      <td>g4, g5, g6, g7, g8</td>\n",
       "      <td>NaN</td>\n",
       "      <td>32%</td>\n",
       "      <td>140</td>\n",
       "      <td>NaN</td>\n",
       "      <td>Public School Districts</td>\n",
       "      <td>NaN</td>\n",
       "      <td>August 31, 2020 - September 4, 2020</td>\n",
       "      <td>09/15/2020</td>\n",
       "    </tr>\n",
       "    <tr>\n",
       "      <th>1</th>\n",
       "      <td>140011</td>\n",
       "      <td>Branford School District</td>\n",
       "      <td>09/10/2020</td>\n",
       "      <td>NaN</td>\n",
       "      <td>NaN</td>\n",
       "      <td>NaN</td>\n",
       "      <td>NaN</td>\n",
       "      <td>NaN</td>\n",
       "      <td>NaN</td>\n",
       "      <td>Public School Districts</td>\n",
       "      <td>NaN</td>\n",
       "      <td>August 31, 2020 - September 4, 2020</td>\n",
       "      <td>09/15/2020</td>\n",
       "    </tr>\n",
       "    <tr>\n",
       "      <th>2</th>\n",
       "      <td>150011</td>\n",
       "      <td>Bridgeport School District</td>\n",
       "      <td>09/08/2020</td>\n",
       "      <td>NaN</td>\n",
       "      <td>NaN</td>\n",
       "      <td>NaN</td>\n",
       "      <td>NaN</td>\n",
       "      <td>NaN</td>\n",
       "      <td>NaN</td>\n",
       "      <td>Public School Districts</td>\n",
       "      <td>Opportunity</td>\n",
       "      <td>August 31, 2020 - September 4, 2020</td>\n",
       "      <td>09/15/2020</td>\n",
       "    </tr>\n",
       "    <tr>\n",
       "      <th>3</th>\n",
       "      <td>170011</td>\n",
       "      <td>Bristol School District</td>\n",
       "      <td>09/08/2020</td>\n",
       "      <td>NaN</td>\n",
       "      <td>NaN</td>\n",
       "      <td>NaN</td>\n",
       "      <td>NaN</td>\n",
       "      <td>NaN</td>\n",
       "      <td>NaN</td>\n",
       "      <td>Public School Districts</td>\n",
       "      <td>Alliance</td>\n",
       "      <td>August 31, 2020 - September 4, 2020</td>\n",
       "      <td>09/15/2020</td>\n",
       "    </tr>\n",
       "    <tr>\n",
       "      <th>4</th>\n",
       "      <td>670011</td>\n",
       "      <td>Hebron School District</td>\n",
       "      <td>09/08/2020</td>\n",
       "      <td>NaN</td>\n",
       "      <td>NaN</td>\n",
       "      <td>NaN</td>\n",
       "      <td>NaN</td>\n",
       "      <td>NaN</td>\n",
       "      <td>NaN</td>\n",
       "      <td>Public School Districts</td>\n",
       "      <td>NaN</td>\n",
       "      <td>August 31, 2020 - September 4, 2020</td>\n",
       "      <td>09/15/2020</td>\n",
       "    </tr>\n",
       "    <tr>\n",
       "      <th>...</th>\n",
       "      <td>...</td>\n",
       "      <td>...</td>\n",
       "      <td>...</td>\n",
       "      <td>...</td>\n",
       "      <td>...</td>\n",
       "      <td>...</td>\n",
       "      <td>...</td>\n",
       "      <td>...</td>\n",
       "      <td>...</td>\n",
       "      <td>...</td>\n",
       "      <td>...</td>\n",
       "      <td>...</td>\n",
       "      <td>...</td>\n",
       "    </tr>\n",
       "    <tr>\n",
       "      <th>5981</th>\n",
       "      <td>2970013</td>\n",
       "      <td>Capital Preparatory Harbor School District</td>\n",
       "      <td>NaN</td>\n",
       "      <td>NaN</td>\n",
       "      <td>K, g1, g2, g3, g4, g5, g6, g7, g8, g9, g10, g1...</td>\n",
       "      <td>NaN</td>\n",
       "      <td>NaN</td>\n",
       "      <td>NaN</td>\n",
       "      <td>Most/All Grades Hybrid</td>\n",
       "      <td>Public Charter School Districts</td>\n",
       "      <td>NaN</td>\n",
       "      <td>February 8, 2021 - February 12, 2021</td>\n",
       "      <td>02/17/2021</td>\n",
       "    </tr>\n",
       "    <tr>\n",
       "      <th>5982</th>\n",
       "      <td>9000016</td>\n",
       "      <td>Connecticut Technical Education and Career System</td>\n",
       "      <td>NaN</td>\n",
       "      <td>g12</td>\n",
       "      <td>g10, g11</td>\n",
       "      <td>g9</td>\n",
       "      <td>NaN</td>\n",
       "      <td>NaN</td>\n",
       "      <td>Most/All Grades Hybrid</td>\n",
       "      <td>CT Technical Education and Career Districts</td>\n",
       "      <td>NaN</td>\n",
       "      <td>February 8, 2021 - February 12, 2021</td>\n",
       "      <td>02/17/2021</td>\n",
       "    </tr>\n",
       "    <tr>\n",
       "      <th>5983</th>\n",
       "      <td>9010022</td>\n",
       "      <td>Norwich Free Academy District</td>\n",
       "      <td>NaN</td>\n",
       "      <td>NaN</td>\n",
       "      <td>g9, g10, g11, g12</td>\n",
       "      <td>NaN</td>\n",
       "      <td>NaN</td>\n",
       "      <td>NaN</td>\n",
       "      <td>Most/All Grades Hybrid</td>\n",
       "      <td>Endowed and Incorporated Academies Districts</td>\n",
       "      <td>NaN</td>\n",
       "      <td>February 8, 2021 - February 12, 2021</td>\n",
       "      <td>02/17/2021</td>\n",
       "    </tr>\n",
       "    <tr>\n",
       "      <th>5984</th>\n",
       "      <td>9020022</td>\n",
       "      <td>The Gilbert School District</td>\n",
       "      <td>NaN</td>\n",
       "      <td>NaN</td>\n",
       "      <td>g7, g8, g9, g10, g11, g12</td>\n",
       "      <td>NaN</td>\n",
       "      <td>NaN</td>\n",
       "      <td>NaN</td>\n",
       "      <td>Most/All Grades Hybrid</td>\n",
       "      <td>Endowed and Incorporated Academies Districts</td>\n",
       "      <td>NaN</td>\n",
       "      <td>February 8, 2021 - February 12, 2021</td>\n",
       "      <td>02/17/2021</td>\n",
       "    </tr>\n",
       "    <tr>\n",
       "      <th>5985</th>\n",
       "      <td>9030022</td>\n",
       "      <td>The Woodstock Academy District</td>\n",
       "      <td>NaN</td>\n",
       "      <td>NaN</td>\n",
       "      <td>g9, g10, g11, g12</td>\n",
       "      <td>NaN</td>\n",
       "      <td>NaN</td>\n",
       "      <td>NaN</td>\n",
       "      <td>Most/All Grades Hybrid</td>\n",
       "      <td>Endowed and Incorporated Academies Districts</td>\n",
       "      <td>NaN</td>\n",
       "      <td>February 8, 2021 - February 12, 2021</td>\n",
       "      <td>02/17/2021</td>\n",
       "    </tr>\n",
       "  </tbody>\n",
       "</table>\n",
       "<p>5986 rows × 13 columns</p>\n",
       "</div>"
      ],
      "text/plain": [
       "      District code                                      District name  \\\n",
       "0            130011                             Bozrah School District   \n",
       "1            140011                           Branford School District   \n",
       "2            150011                         Bridgeport School District   \n",
       "3            170011                            Bristol School District   \n",
       "4            670011                             Hebron School District   \n",
       "...             ...                                                ...   \n",
       "5981        2970013         Capital Preparatory Harbor School District   \n",
       "5982        9000016  Connecticut Technical Education and Career System   \n",
       "5983        9010022                      Norwich Free Academy District   \n",
       "5984        9020022                        The Gilbert School District   \n",
       "5985        9030022                     The Woodstock Academy District   \n",
       "\n",
       "     School start date  Grades: In person  \\\n",
       "0           08/31/2020  PK, K, g1, g2, g3   \n",
       "1           09/10/2020                NaN   \n",
       "2           09/08/2020                NaN   \n",
       "3           09/08/2020                NaN   \n",
       "4           09/08/2020                NaN   \n",
       "...                ...                ...   \n",
       "5981               NaN                NaN   \n",
       "5982               NaN                g12   \n",
       "5983               NaN                NaN   \n",
       "5984               NaN                NaN   \n",
       "5985               NaN                NaN   \n",
       "\n",
       "                                         Grades: Hybrid Grades: Remote  \\\n",
       "0                                    g4, g5, g6, g7, g8            NaN   \n",
       "1                                                   NaN            NaN   \n",
       "2                                                   NaN            NaN   \n",
       "3                                                   NaN            NaN   \n",
       "4                                                   NaN            NaN   \n",
       "...                                                 ...            ...   \n",
       "5981  K, g1, g2, g3, g4, g5, g6, g7, g8, g9, g10, g1...            NaN   \n",
       "5982                                           g10, g11             g9   \n",
       "5983                                  g9, g10, g11, g12            NaN   \n",
       "5984                          g7, g8, g9, g10, g11, g12            NaN   \n",
       "5985                                  g9, g10, g11, g12            NaN   \n",
       "\n",
       "     Percentage of students who are fully remote  \\\n",
       "0                                            32%   \n",
       "1                                            NaN   \n",
       "2                                            NaN   \n",
       "3                                            NaN   \n",
       "4                                            NaN   \n",
       "...                                          ...   \n",
       "5981                                         NaN   \n",
       "5982                                         NaN   \n",
       "5983                                         NaN   \n",
       "5984                                         NaN   \n",
       "5985                                         NaN   \n",
       "\n",
       "     Total number of students in the district Predominant learning model   \\\n",
       "0                                         140                         NaN   \n",
       "1                                         NaN                         NaN   \n",
       "2                                         NaN                         NaN   \n",
       "3                                         NaN                         NaN   \n",
       "4                                         NaN                         NaN   \n",
       "...                                       ...                         ...   \n",
       "5981                                      NaN      Most/All Grades Hybrid   \n",
       "5982                                      NaN      Most/All Grades Hybrid   \n",
       "5983                                      NaN      Most/All Grades Hybrid   \n",
       "5984                                      NaN      Most/All Grades Hybrid   \n",
       "5985                                      NaN      Most/All Grades Hybrid   \n",
       "\n",
       "                                 Organization type Alliance District  \\\n",
       "0                          Public School Districts               NaN   \n",
       "1                          Public School Districts               NaN   \n",
       "2                          Public School Districts       Opportunity   \n",
       "3                          Public School Districts          Alliance   \n",
       "4                          Public School Districts               NaN   \n",
       "...                                            ...               ...   \n",
       "5981               Public Charter School Districts               NaN   \n",
       "5982   CT Technical Education and Career Districts               NaN   \n",
       "5983  Endowed and Incorporated Academies Districts               NaN   \n",
       "5984  Endowed and Incorporated Academies Districts               NaN   \n",
       "5985  Endowed and Incorporated Academies Districts               NaN   \n",
       "\n",
       "                          Reporting period Update date  \n",
       "0      August 31, 2020 - September 4, 2020  09/15/2020  \n",
       "1      August 31, 2020 - September 4, 2020  09/15/2020  \n",
       "2      August 31, 2020 - September 4, 2020  09/15/2020  \n",
       "3      August 31, 2020 - September 4, 2020  09/15/2020  \n",
       "4      August 31, 2020 - September 4, 2020  09/15/2020  \n",
       "...                                    ...         ...  \n",
       "5981  February 8, 2021 - February 12, 2021  02/17/2021  \n",
       "5982  February 8, 2021 - February 12, 2021  02/17/2021  \n",
       "5983  February 8, 2021 - February 12, 2021  02/17/2021  \n",
       "5984  February 8, 2021 - February 12, 2021  02/17/2021  \n",
       "5985  February 8, 2021 - February 12, 2021  02/17/2021  \n",
       "\n",
       "[5986 rows x 13 columns]"
      ]
     },
     "execution_count": 293,
     "metadata": {},
     "output_type": "execute_result"
    }
   ],
   "source": [
    "df"
   ]
  },
  {
   "cell_type": "code",
   "execution_count": 294,
   "metadata": {},
   "outputs": [],
   "source": [
    "df['Update date'] = pd.to_datetime(df['Update date'])"
   ]
  },
  {
   "cell_type": "code",
   "execution_count": 295,
   "metadata": {},
   "outputs": [],
   "source": [
    "#reporting period here is Feb 8-12"
   ]
  },
  {
   "cell_type": "code",
   "execution_count": 296,
   "metadata": {},
   "outputs": [],
   "source": [
    "df_feb17 = df[df['Update date']==' 2021-02-17']"
   ]
  },
  {
   "cell_type": "code",
   "execution_count": 297,
   "metadata": {},
   "outputs": [],
   "source": [
    "df_learningmodels = df_feb17[['District code','District name','Grades: Hybrid','Grades: Remote','Grades: In person']]"
   ]
  },
  {
   "cell_type": "code",
   "execution_count": 298,
   "metadata": {},
   "outputs": [
    {
     "data": {
      "text/plain": [
       "285"
      ]
     },
     "execution_count": 298,
     "metadata": {},
     "output_type": "execute_result"
    }
   ],
   "source": [
    "len(df_learningmodels)"
   ]
  },
  {
   "cell_type": "code",
   "execution_count": 299,
   "metadata": {},
   "outputs": [
    {
     "data": {
      "text/plain": [
       "285"
      ]
     },
     "execution_count": 299,
     "metadata": {},
     "output_type": "execute_result"
    }
   ],
   "source": [
    "df_learningmodels['District code'].nunique()"
   ]
  },
  {
   "cell_type": "code",
   "execution_count": 300,
   "metadata": {},
   "outputs": [
    {
     "data": {
      "text/plain": [
       "5701                        PK, K, g1, g2, g3, g4, g5, g6\n",
       "5702    PK, K, g1, g2, g3, g4, g5, g6, g7, g8, g9, g10...\n",
       "5703                PK, K, g1, g2, g3, g4, g5, g6, g7, g8\n",
       "5704    PK, K, g1, g2, g3, g4, g5, g6, g7, g8, g9, g10...\n",
       "5705    K, g1, g2, g3, g4, g5, g6, g7, g8, g9, g10, g1...\n",
       "                              ...                        \n",
       "5981                                                  NaN\n",
       "5982                                                  g12\n",
       "5983                                                  NaN\n",
       "5984                                                  NaN\n",
       "5985                                                  NaN\n",
       "Name: Grades: In person, Length: 285, dtype: object"
      ]
     },
     "execution_count": 300,
     "metadata": {},
     "output_type": "execute_result"
    }
   ],
   "source": [
    "df_learningmodels['Grades: In person']"
   ]
  },
  {
   "cell_type": "code",
   "execution_count": 301,
   "metadata": {},
   "outputs": [
    {
     "name": "stderr",
     "output_type": "stream",
     "text": [
      "/Users/kasturipananjady/.pyenv/versions/3.7.1/lib/python3.7/site-packages/ipykernel_launcher.py:1: SettingWithCopyWarning: \n",
      "A value is trying to be set on a copy of a slice from a DataFrame.\n",
      "Try using .loc[row_indexer,col_indexer] = value instead\n",
      "\n",
      "See the caveats in the documentation: https://pandas.pydata.org/pandas-docs/stable/user_guide/indexing.html#returning-a-view-versus-a-copy\n",
      "  \"\"\"Entry point for launching an IPython kernel.\n"
     ]
    }
   ],
   "source": [
    "df_learningmodels['Most Grades Learning In-Person'] = df_learningmodels['Grades: In person'].str.count(',')+1"
   ]
  },
  {
   "cell_type": "code",
   "execution_count": 302,
   "metadata": {},
   "outputs": [
    {
     "name": "stderr",
     "output_type": "stream",
     "text": [
      "/Users/kasturipananjady/.pyenv/versions/3.7.1/lib/python3.7/site-packages/ipykernel_launcher.py:1: SettingWithCopyWarning: \n",
      "A value is trying to be set on a copy of a slice from a DataFrame.\n",
      "Try using .loc[row_indexer,col_indexer] = value instead\n",
      "\n",
      "See the caveats in the documentation: https://pandas.pydata.org/pandas-docs/stable/user_guide/indexing.html#returning-a-view-versus-a-copy\n",
      "  \"\"\"Entry point for launching an IPython kernel.\n"
     ]
    }
   ],
   "source": [
    "df_learningmodels['Most Grades Learning Remotely'] = df_learningmodels['Grades: Remote'].str.count(',')+1"
   ]
  },
  {
   "cell_type": "code",
   "execution_count": 303,
   "metadata": {},
   "outputs": [
    {
     "name": "stderr",
     "output_type": "stream",
     "text": [
      "/Users/kasturipananjady/.pyenv/versions/3.7.1/lib/python3.7/site-packages/ipykernel_launcher.py:1: SettingWithCopyWarning: \n",
      "A value is trying to be set on a copy of a slice from a DataFrame.\n",
      "Try using .loc[row_indexer,col_indexer] = value instead\n",
      "\n",
      "See the caveats in the documentation: https://pandas.pydata.org/pandas-docs/stable/user_guide/indexing.html#returning-a-view-versus-a-copy\n",
      "  \"\"\"Entry point for launching an IPython kernel.\n"
     ]
    }
   ],
   "source": [
    "df_learningmodels['Most Grades Learning in a Hybrid Model'] = df_learningmodels['Grades: Hybrid'].str.count(',')+1"
   ]
  },
  {
   "cell_type": "code",
   "execution_count": 304,
   "metadata": {},
   "outputs": [
    {
     "name": "stderr",
     "output_type": "stream",
     "text": [
      "/Users/kasturipananjady/.pyenv/versions/3.7.1/lib/python3.7/site-packages/ipykernel_launcher.py:1: SettingWithCopyWarning: \n",
      "A value is trying to be set on a copy of a slice from a DataFrame.\n",
      "Try using .loc[row_indexer,col_indexer] = value instead\n",
      "\n",
      "See the caveats in the documentation: https://pandas.pydata.org/pandas-docs/stable/user_guide/indexing.html#returning-a-view-versus-a-copy\n",
      "  \"\"\"Entry point for launching an IPython kernel.\n"
     ]
    }
   ],
   "source": [
    "df_learningmodels['Predominantly'] = df_learningmodels[['Most Grades Learning in a Hybrid Model','Most Grades Learning Remotely','Most Grades Learning In-Person']].idxmax(axis=1)"
   ]
  },
  {
   "cell_type": "code",
   "execution_count": 305,
   "metadata": {},
   "outputs": [],
   "source": [
    "df_learningmodels_final = df_learningmodels[['District code','District name','Predominantly']]"
   ]
  },
  {
   "cell_type": "markdown",
   "metadata": {},
   "source": [
    "# Merging"
   ]
  },
  {
   "cell_type": "code",
   "execution_count": 306,
   "metadata": {},
   "outputs": [],
   "source": [
    "df_merged = df_learningmodels_final.merge(df_enrollment_race, left_on='District code', right_on='District Code', how='right')"
   ]
  },
  {
   "cell_type": "code",
   "execution_count": 307,
   "metadata": {},
   "outputs": [
    {
     "data": {
      "text/html": [
       "<div>\n",
       "<style scoped>\n",
       "    .dataframe tbody tr th:only-of-type {\n",
       "        vertical-align: middle;\n",
       "    }\n",
       "\n",
       "    .dataframe tbody tr th {\n",
       "        vertical-align: top;\n",
       "    }\n",
       "\n",
       "    .dataframe thead th {\n",
       "        text-align: right;\n",
       "    }\n",
       "</style>\n",
       "<table border=\"1\" class=\"dataframe\">\n",
       "  <thead>\n",
       "    <tr style=\"text-align: right;\">\n",
       "      <th></th>\n",
       "      <th>District code</th>\n",
       "      <th>District name</th>\n",
       "      <th>Predominantly</th>\n",
       "      <th>District Code</th>\n",
       "      <th>District</th>\n",
       "      <th>%_White</th>\n",
       "      <th>Total_estimate</th>\n",
       "    </tr>\n",
       "  </thead>\n",
       "  <tbody>\n",
       "    <tr>\n",
       "      <th>175</th>\n",
       "      <td>NaN</td>\n",
       "      <td>NaN</td>\n",
       "      <td>NaN</td>\n",
       "      <td>3360015</td>\n",
       "      <td>Unified School District #1</td>\n",
       "      <td>8.965517</td>\n",
       "      <td>145</td>\n",
       "    </tr>\n",
       "    <tr>\n",
       "      <th>176</th>\n",
       "      <td>NaN</td>\n",
       "      <td>NaN</td>\n",
       "      <td>NaN</td>\n",
       "      <td>3470015</td>\n",
       "      <td>Unified School District #2</td>\n",
       "      <td>38.666667</td>\n",
       "      <td>75</td>\n",
       "    </tr>\n",
       "  </tbody>\n",
       "</table>\n",
       "</div>"
      ],
      "text/plain": [
       "     District code District name Predominantly  District Code  \\\n",
       "175            NaN           NaN           NaN        3360015   \n",
       "176            NaN           NaN           NaN        3470015   \n",
       "\n",
       "                       District    %_White  Total_estimate  \n",
       "175  Unified School District #1   8.965517             145  \n",
       "176  Unified School District #2  38.666667              75  "
      ]
     },
     "execution_count": 307,
     "metadata": {},
     "output_type": "execute_result"
    }
   ],
   "source": [
    "df_merged[df_merged['District code'].isna()]"
   ]
  },
  {
   "cell_type": "code",
   "execution_count": 308,
   "metadata": {},
   "outputs": [],
   "source": [
    "df_merged = df_learningmodels_final.merge(df_enrollment_race, left_on='District code', right_on='District Code', how='left')\n",
    "\n"
   ]
  },
  {
   "cell_type": "code",
   "execution_count": 309,
   "metadata": {},
   "outputs": [
    {
     "data": {
      "text/plain": [
       "89"
      ]
     },
     "execution_count": 309,
     "metadata": {},
     "output_type": "execute_result"
    }
   ],
   "source": [
    "df_merged[df_merged['District Code'].isna()]['District name'].nunique()"
   ]
  },
  {
   "cell_type": "code",
   "execution_count": 310,
   "metadata": {},
   "outputs": [
    {
     "data": {
      "text/plain": [
       "array(['The Webb School in the Valley',\n",
       "       'Oak Hill School at Farmington Valley Montessori',\n",
       "       'Arch Bridge School', 'Oak Hill School at Hartford Secondary',\n",
       "       'Connecticut Junior Republic-Bristol', 'The Learning Clinic',\n",
       "       'Fresh Start School', 'The Webb School at Cheshire',\n",
       "       'Adelbrook-The Learning Center of Cromwell',\n",
       "       'Connecticut Coastal Academy', 'Rushford Academy',\n",
       "       'Adelbrook-The Learning Center of East Hartford',\n",
       "       'Pathways Academy - East Haven', 'The Light House on Main St',\n",
       "       'The Light House on Pennsylvania Ave', 'The Speech Academy-Easton',\n",
       "       'Natchaug Hospital School Joshua Center-Enfield',\n",
       "       'Saint Catherine Academy', 'Natchaug Hospital Green Valley School',\n",
       "       'Eagle Hill School', 'Cedarhurst School', 'Whitney Hall School',\n",
       "       'Lorraine D. Foster Day School', 'Grace S. Webb School',\n",
       "       'Eagle House Education Program',\n",
       "       'High Road School of Hartford High',\n",
       "       'High Road School of Hartford-Primary',\n",
       "       'Futures School-West Hartford', 'Options Educational Services',\n",
       "       'Oak Hill School at Hemlocks Center',\n",
       "       'Natchaug Hospital School Joshua Center NE-Danielson',\n",
       "       'High Road School Hartford High: Windham County',\n",
       "       'Connecticut Junior Republic', 'Touchstone School', 'Grove School',\n",
       "       'Community Child Guidance Clinic School',\n",
       "       'Adelbrook-The Learning Center of Manchester',\n",
       "       'Manchester Memorial Hospital Clinical Day School',\n",
       "       'Natchaug Hospital Inpatient School',\n",
       "       'Natchaug Hospital Journey School', 'Meliora Academy',\n",
       "       'Charles F. Hayden School at Boys & Girls Village',\n",
       "       'Milestones Behavioral Services-Orange',\n",
       "       'Milestones Behavioral Services-Milford',\n",
       "       'The Foundation School-Milford', 'Woodhouse Academy',\n",
       "       'Bradley School-New London Regional',\n",
       "       'IPPI Learning Academy at Prospect St. School',\n",
       "       'Oak Hill School at Bristol', 'Raymond Hill School',\n",
       "       'Solterra Academy', 'Oak Hill School at Hartford Primary',\n",
       "       'Oak Hill School at Ann Antolini School',\n",
       "       'Chapel Haven Schleifer Center, Inc.',\n",
       "       'Yale Child Study Center School',\n",
       "       'Connecticut College Child Development Lab School',\n",
       "       'High Road School of New London Middle/High School',\n",
       "       'Elizabeth Ives School for Special Children',\n",
       "       'High Road School of Fairfield County',\n",
       "       'Natchaug Hospital School Joshua Center Thames Valley CDT',\n",
       "       'Natchaug Hospital School CDT-Shoreline',\n",
       "       'The Foundation School-Orange', 'Hope Academy',\n",
       "       'Northwest Village School/Wheeler Clinic',\n",
       "       'Oak Hill School at Middle School of Plainville',\n",
       "       'Oak Hill School at Haddam-Killingworth High School',\n",
       "       'Oak Hill School at Portland', 'The Speech Academy-Somersville',\n",
       "       'Villa Maria Education Center', 'IPPI Learning Academy: Stamford',\n",
       "       'The Spire School', 'The Pinnacle School, LLC',\n",
       "       'IPPI Learning Academy: Stratford',\n",
       "       'River Run Academy at the Susan Wayne Center of Excellence',\n",
       "       'Bradley School-Windham County',\n",
       "       \"St. Vincent's Special Needs School Program\",\n",
       "       'Union School District', 'Benhaven School', 'Benhaven Academy',\n",
       "       'High Road Academy - BEST Academy',\n",
       "       'High Road School of Wallingford', 'Devereux Glenholme School',\n",
       "       'Waterford Country School', 'Gengras Center',\n",
       "       'Intensive Education Academy', 'American School for the Deaf',\n",
       "       'Ben Bronz Academy', 'PACES', 'Westport Day School'], dtype=object)"
      ]
     },
     "execution_count": 310,
     "metadata": {},
     "output_type": "execute_result"
    }
   ],
   "source": [
    "df_merged[df_merged['District Code'].isna()]['District name'].unique()"
   ]
  },
  {
   "cell_type": "code",
   "execution_count": 311,
   "metadata": {},
   "outputs": [],
   "source": [
    "df_merged_final = df_learningmodels_final.merge(df_enrollment_race, left_on='District code', right_on='District Code')\n",
    "\n"
   ]
  },
  {
   "cell_type": "code",
   "execution_count": 312,
   "metadata": {},
   "outputs": [],
   "source": [
    "df_merged_final.to_clipboard()"
   ]
  },
  {
   "cell_type": "code",
   "execution_count": 313,
   "metadata": {},
   "outputs": [
    {
     "data": {
      "text/html": [
       "<div>\n",
       "<style scoped>\n",
       "    .dataframe tbody tr th:only-of-type {\n",
       "        vertical-align: middle;\n",
       "    }\n",
       "\n",
       "    .dataframe tbody tr th {\n",
       "        vertical-align: top;\n",
       "    }\n",
       "\n",
       "    .dataframe thead th {\n",
       "        text-align: right;\n",
       "    }\n",
       "</style>\n",
       "<table border=\"1\" class=\"dataframe\">\n",
       "  <thead>\n",
       "    <tr style=\"text-align: right;\">\n",
       "      <th></th>\n",
       "      <th>District code</th>\n",
       "      <th>District name</th>\n",
       "      <th>Predominantly</th>\n",
       "      <th>District Code</th>\n",
       "      <th>District</th>\n",
       "      <th>%_White</th>\n",
       "      <th>Total_estimate</th>\n",
       "    </tr>\n",
       "  </thead>\n",
       "  <tbody>\n",
       "    <tr>\n",
       "      <th>0</th>\n",
       "      <td>10011</td>\n",
       "      <td>Andover School District</td>\n",
       "      <td>Most Grades Learning In-Person</td>\n",
       "      <td>10011</td>\n",
       "      <td>Andover School District</td>\n",
       "      <td>81.609195</td>\n",
       "      <td>174</td>\n",
       "    </tr>\n",
       "    <tr>\n",
       "      <th>1</th>\n",
       "      <td>20011</td>\n",
       "      <td>Ansonia School District</td>\n",
       "      <td>Most Grades Learning In-Person</td>\n",
       "      <td>20011</td>\n",
       "      <td>Ansonia School District</td>\n",
       "      <td>28.775693</td>\n",
       "      <td>2238</td>\n",
       "    </tr>\n",
       "    <tr>\n",
       "      <th>2</th>\n",
       "      <td>30011</td>\n",
       "      <td>Ashford School District</td>\n",
       "      <td>Most Grades Learning In-Person</td>\n",
       "      <td>30011</td>\n",
       "      <td>Ashford School District</td>\n",
       "      <td>84.864865</td>\n",
       "      <td>370</td>\n",
       "    </tr>\n",
       "    <tr>\n",
       "      <th>3</th>\n",
       "      <td>40011</td>\n",
       "      <td>Avon School District</td>\n",
       "      <td>Most Grades Learning In-Person</td>\n",
       "      <td>40011</td>\n",
       "      <td>Avon School District</td>\n",
       "      <td>62.627877</td>\n",
       "      <td>3128</td>\n",
       "    </tr>\n",
       "    <tr>\n",
       "      <th>4</th>\n",
       "      <td>50011</td>\n",
       "      <td>Barkhamsted School District</td>\n",
       "      <td>Most Grades Learning In-Person</td>\n",
       "      <td>50011</td>\n",
       "      <td>Barkhamsted School District</td>\n",
       "      <td>92.118227</td>\n",
       "      <td>203</td>\n",
       "    </tr>\n",
       "    <tr>\n",
       "      <th>...</th>\n",
       "      <td>...</td>\n",
       "      <td>...</td>\n",
       "      <td>...</td>\n",
       "      <td>...</td>\n",
       "      <td>...</td>\n",
       "      <td>...</td>\n",
       "      <td>...</td>\n",
       "    </tr>\n",
       "    <tr>\n",
       "      <th>191</th>\n",
       "      <td>2970013</td>\n",
       "      <td>Capital Preparatory Harbor School District</td>\n",
       "      <td>Most Grades Learning in a Hybrid Model</td>\n",
       "      <td>2970013</td>\n",
       "      <td>Capital Preparatory Harbor School District</td>\n",
       "      <td>1.019108</td>\n",
       "      <td>785</td>\n",
       "    </tr>\n",
       "    <tr>\n",
       "      <th>192</th>\n",
       "      <td>9000016</td>\n",
       "      <td>Connecticut Technical Education and Career System</td>\n",
       "      <td>Most Grades Learning in a Hybrid Model</td>\n",
       "      <td>9000016</td>\n",
       "      <td>Connecticut Technical Education and Career System</td>\n",
       "      <td>41.709296</td>\n",
       "      <td>11338</td>\n",
       "    </tr>\n",
       "    <tr>\n",
       "      <th>193</th>\n",
       "      <td>9010022</td>\n",
       "      <td>Norwich Free Academy District</td>\n",
       "      <td>Most Grades Learning in a Hybrid Model</td>\n",
       "      <td>9010022</td>\n",
       "      <td>Norwich Free Academy District</td>\n",
       "      <td>51.916706</td>\n",
       "      <td>2113</td>\n",
       "    </tr>\n",
       "    <tr>\n",
       "      <th>194</th>\n",
       "      <td>9020022</td>\n",
       "      <td>The Gilbert School District</td>\n",
       "      <td>Most Grades Learning in a Hybrid Model</td>\n",
       "      <td>9020022</td>\n",
       "      <td>The Gilbert School District</td>\n",
       "      <td>69.911504</td>\n",
       "      <td>452</td>\n",
       "    </tr>\n",
       "    <tr>\n",
       "      <th>195</th>\n",
       "      <td>9030022</td>\n",
       "      <td>The Woodstock Academy District</td>\n",
       "      <td>Most Grades Learning in a Hybrid Model</td>\n",
       "      <td>9030022</td>\n",
       "      <td>The Woodstock Academy District</td>\n",
       "      <td>86.206897</td>\n",
       "      <td>1044</td>\n",
       "    </tr>\n",
       "  </tbody>\n",
       "</table>\n",
       "<p>196 rows × 7 columns</p>\n",
       "</div>"
      ],
      "text/plain": [
       "     District code                                      District name  \\\n",
       "0            10011                            Andover School District   \n",
       "1            20011                            Ansonia School District   \n",
       "2            30011                            Ashford School District   \n",
       "3            40011                               Avon School District   \n",
       "4            50011                        Barkhamsted School District   \n",
       "..             ...                                                ...   \n",
       "191        2970013         Capital Preparatory Harbor School District   \n",
       "192        9000016  Connecticut Technical Education and Career System   \n",
       "193        9010022                      Norwich Free Academy District   \n",
       "194        9020022                        The Gilbert School District   \n",
       "195        9030022                     The Woodstock Academy District   \n",
       "\n",
       "                              Predominantly  District Code  \\\n",
       "0            Most Grades Learning In-Person          10011   \n",
       "1            Most Grades Learning In-Person          20011   \n",
       "2            Most Grades Learning In-Person          30011   \n",
       "3            Most Grades Learning In-Person          40011   \n",
       "4            Most Grades Learning In-Person          50011   \n",
       "..                                      ...            ...   \n",
       "191  Most Grades Learning in a Hybrid Model        2970013   \n",
       "192  Most Grades Learning in a Hybrid Model        9000016   \n",
       "193  Most Grades Learning in a Hybrid Model        9010022   \n",
       "194  Most Grades Learning in a Hybrid Model        9020022   \n",
       "195  Most Grades Learning in a Hybrid Model        9030022   \n",
       "\n",
       "                                              District    %_White  \\\n",
       "0                              Andover School District  81.609195   \n",
       "1                              Ansonia School District  28.775693   \n",
       "2                              Ashford School District  84.864865   \n",
       "3                                 Avon School District  62.627877   \n",
       "4                          Barkhamsted School District  92.118227   \n",
       "..                                                 ...        ...   \n",
       "191         Capital Preparatory Harbor School District   1.019108   \n",
       "192  Connecticut Technical Education and Career System  41.709296   \n",
       "193                      Norwich Free Academy District  51.916706   \n",
       "194                        The Gilbert School District  69.911504   \n",
       "195                     The Woodstock Academy District  86.206897   \n",
       "\n",
       "     Total_estimate  \n",
       "0               174  \n",
       "1              2238  \n",
       "2               370  \n",
       "3              3128  \n",
       "4               203  \n",
       "..              ...  \n",
       "191             785  \n",
       "192           11338  \n",
       "193            2113  \n",
       "194             452  \n",
       "195            1044  \n",
       "\n",
       "[196 rows x 7 columns]"
      ]
     },
     "execution_count": 313,
     "metadata": {},
     "output_type": "execute_result"
    }
   ],
   "source": [
    "df_merged_final"
   ]
  },
  {
   "cell_type": "code",
   "execution_count": 314,
   "metadata": {},
   "outputs": [],
   "source": [
    "df_merged_final.to_csv('this_stuff.csv', index=False)"
   ]
  },
  {
   "cell_type": "code",
   "execution_count": null,
   "metadata": {},
   "outputs": [],
   "source": []
  },
  {
   "cell_type": "code",
   "execution_count": null,
   "metadata": {},
   "outputs": [],
   "source": []
  },
  {
   "cell_type": "code",
   "execution_count": null,
   "metadata": {},
   "outputs": [],
   "source": []
  },
  {
   "cell_type": "code",
   "execution_count": null,
   "metadata": {},
   "outputs": [],
   "source": []
  },
  {
   "cell_type": "code",
   "execution_count": null,
   "metadata": {},
   "outputs": [],
   "source": []
  }
 ],
 "metadata": {
  "kernelspec": {
   "display_name": "Python 3",
   "language": "python",
   "name": "python3"
  },
  "language_info": {
   "codemirror_mode": {
    "name": "ipython",
    "version": 3
   },
   "file_extension": ".py",
   "mimetype": "text/x-python",
   "name": "python",
   "nbconvert_exporter": "python",
   "pygments_lexer": "ipython3",
   "version": "3.7.1"
  }
 },
 "nbformat": 4,
 "nbformat_minor": 4
}
